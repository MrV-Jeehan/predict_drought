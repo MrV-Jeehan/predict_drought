{
 "cells": [
  {
   "cell_type": "code",
   "execution_count": 1,
   "metadata": {},
   "outputs": [
    {
     "name": "stderr",
     "output_type": "stream",
     "text": [
      "Using TensorFlow backend.\n"
     ]
    }
   ],
   "source": [
    "import numpy as np\n",
    "import pandas as pd\n",
    "import keras\n",
    "from keras.layers import Dense, Activation\n",
    "from keras.models import Sequential\n",
    "from keras.utils import np_utils\n",
    "from keras.wrappers.scikit_learn import KerasRegressor\n",
    "from sklearn.model_selection import cross_val_score\n",
    "#import matplotlib.pyplot as plt\n",
    "#%matplotlib inline"
   ]
  },
  {
   "cell_type": "code",
   "execution_count": 2,
   "metadata": {},
   "outputs": [],
   "source": [
    "#ds=pd.read_csv('final_dr.csv') #reading the csv file\n",
    "#print ds.head(n=5)#first 5 rows \n",
    "# Just a random comment \n",
    "# Another comment \n",
    "ds1=pd.read_csv('canada.csv')\n",
    "ds2=pd.read_csv('mexic_2.csv')\n",
    "ds3=pd.read_csv('usa.csv')\n",
    "ds4=pd.read_csv('usc.csv')\n",
    "tds1=ds1.append(ds2)\n",
    "tds2=ds3.append(ds4)\n",
    "fds=tds1.append(tds2)\n"
   ]
  },
  {
   "cell_type": "code",
   "execution_count": 3,
   "metadata": {},
   "outputs": [
    {
     "name": "stdout",
     "output_type": "stream",
     "text": [
      "<type 'numpy.ndarray'>\n"
     ]
    }
   ],
   "source": [
    "data=fds.values\n",
    "print type(data)"
   ]
  },
  {
   "cell_type": "code",
   "execution_count": 4,
   "metadata": {},
   "outputs": [],
   "source": [
    "## Wavelet transform\n",
    "import pywt\n",
    "to_train=data[:,3:] ##getting the training data after column 3\n",
    "for ix in range(to_train.shape[0]):\n",
    "    (cA, cD) = pywt.dwt(to_train[ix], 'db1')\n",
    "    new_tr=np.concatenate((cA,cD),axis=0)  ## two tuples given by dwt are combined again to form training data\n",
    "    to_train[ix]=new_tr\n",
    "    \n"
   ]
  },
  {
   "cell_type": "code",
   "execution_count": 5,
   "metadata": {},
   "outputs": [],
   "source": [
    "split=int(0.8*data.shape[0])## splitting the data into train:test split 80:20 rule \n",
    "X_train=to_train[0:split,3:13]\n",
    "X_test=to_train[split:,3:13]\n",
    "Y_train=data[0:split,13:]#output for first 12 months or the first row is the predicted spi of next 3 months \n",
    "Y_test=data[split:,13:]"
   ]
  },
  {
   "cell_type": "code",
   "execution_count": 6,
   "metadata": {},
   "outputs": [
    {
     "name": "stdout",
     "output_type": "stream",
     "text": [
      "(67234, 9)\n",
      "(16809, 9)\n",
      "(67234, 2)\n",
      "(16809, 2)\n"
     ]
    }
   ],
   "source": [
    "print X_train.shape\n",
    "print X_test.shape\n",
    "print Y_train.shape\n",
    "print Y_test.shape"
   ]
  },
  {
   "cell_type": "code",
   "execution_count": 7,
   "metadata": {},
   "outputs": [
    {
     "name": "stdout",
     "output_type": "stream",
     "text": [
      "<type 'numpy.ndarray'>\n"
     ]
    }
   ],
   "source": [
    "print type(X_train[0])"
   ]
  },
  {
   "cell_type": "code",
   "execution_count": 8,
   "metadata": {},
   "outputs": [],
   "source": [
    "def baseline_model():\n",
    "    # create model\n",
    "    model = Sequential()\n",
    "    model.add(Dense(9, input_dim=9, kernel_initializer='normal', activation='tanh'))\n",
    "    model.add(Dense(60,activation='tanh'))\n",
    "    #model.add(Dense(60,activation='relu'))\n",
    "    model.add(Dense(2, kernel_initializer='normal',activation='tanh'))\n",
    "    # Compile model\n",
    "    model.compile(loss='mean_squared_error', optimizer='adagrad',metrics=['accuracy'])\n",
    "    return model"
   ]
  },
  {
   "cell_type": "code",
   "execution_count": 9,
   "metadata": {},
   "outputs": [],
   "source": [
    "seed = 7\n",
    "np.random.seed(seed)\n",
    "# evaluate model with standardized dataset\n",
    "estimator = KerasRegressor(build_fn=baseline_model, epochs=100, batch_size=5, verbose=0)"
   ]
  },
  {
   "cell_type": "code",
   "execution_count": null,
   "metadata": {},
   "outputs": [
    {
     "name": "stderr",
     "output_type": "stream",
     "text": [
      "/home/my/.local/lib/python2.7/site-packages/keras/wrappers/scikit_learn.py:152: UserWarning: The `nb_epoch` argument in `fit` has been renamed `epochs`.\n",
      "  history = self.model.fit(x, y, **fit_args)\n"
     ]
    },
    {
     "name": "stdout",
     "output_type": "stream",
     "text": [
      "Train on 67234 samples, validate on 16809 samples\n",
      "Epoch 1/32\n",
      " - 6s - loss: 33.3935 - acc: 0.9915 - val_loss: 24.8336 - val_acc: 0.9945\n",
      "Epoch 2/32\n",
      " - 5s - loss: 33.3843 - acc: 0.9965 - val_loss: 24.8329 - val_acc: 0.9943\n",
      "Epoch 3/32\n",
      " - 5s - loss: 33.3838 - acc: 0.9967 - val_loss: 24.8325 - val_acc: 0.9936\n",
      "Epoch 4/32\n",
      " - 5s - loss: 33.3835 - acc: 0.9967 - val_loss: 24.8323 - val_acc: 0.9952\n",
      "Epoch 5/32\n",
      " - 5s - loss: 33.3833 - acc: 0.9970 - val_loss: 24.8324 - val_acc: 0.9968\n",
      "Epoch 6/32\n",
      " - 5s - loss: 33.3832 - acc: 0.9970 - val_loss: 24.8321 - val_acc: 0.9962\n",
      "Epoch 7/32\n",
      " - 5s - loss: 33.3831 - acc: 0.9971 - val_loss: 24.8321 - val_acc: 0.9971\n",
      "Epoch 8/32\n",
      " - 5s - loss: 33.3830 - acc: 0.9971 - val_loss: 24.8321 - val_acc: 0.9952\n",
      "Epoch 9/32\n",
      " - 5s - loss: 33.3830 - acc: 0.9971 - val_loss: 24.8319 - val_acc: 0.9953\n",
      "Epoch 10/32\n",
      " - 5s - loss: 33.3829 - acc: 0.9971 - val_loss: 24.8319 - val_acc: 0.9949\n",
      "Epoch 11/32\n",
      " - 5s - loss: 33.3828 - acc: 0.9973 - val_loss: 24.8319 - val_acc: 0.9955\n",
      "Epoch 12/32\n",
      " - 5s - loss: 33.3828 - acc: 0.9970 - val_loss: 24.8321 - val_acc: 0.9951\n",
      "Epoch 13/32\n",
      " - 5s - loss: 33.3828 - acc: 0.9974 - val_loss: 24.8319 - val_acc: 0.9956\n",
      "Epoch 14/32\n",
      " - 5s - loss: 33.3827 - acc: 0.9972 - val_loss: 24.8319 - val_acc: 0.9969\n",
      "Epoch 15/32\n",
      " - 5s - loss: 33.3827 - acc: 0.9973 - val_loss: 24.8319 - val_acc: 0.9954\n",
      "Epoch 16/32\n",
      " - 5s - loss: 33.3827 - acc: 0.9975 - val_loss: 24.8319 - val_acc: 0.9955\n",
      "Epoch 17/32\n",
      " - 5s - loss: 33.3826 - acc: 0.9971 - val_loss: 24.8318 - val_acc: 0.9965\n",
      "Epoch 18/32\n",
      " - 5s - loss: 33.3826 - acc: 0.9976 - val_loss: 24.8318 - val_acc: 0.9962\n",
      "Epoch 19/32\n",
      " - 5s - loss: 33.3826 - acc: 0.9972 - val_loss: 24.8318 - val_acc: 0.9952\n",
      "Epoch 20/32\n",
      " - 5s - loss: 33.3826 - acc: 0.9971 - val_loss: 24.8317 - val_acc: 0.9933\n",
      "Epoch 21/32\n",
      " - 5s - loss: 33.3826 - acc: 0.9971 - val_loss: 24.8317 - val_acc: 0.9972\n",
      "Epoch 22/32\n",
      " - 5s - loss: 33.3826 - acc: 0.9972 - val_loss: 24.8317 - val_acc: 0.9961\n",
      "Epoch 23/32\n",
      " - 5s - loss: 33.3825 - acc: 0.9972 - val_loss: 24.8317 - val_acc: 0.9959\n",
      "Epoch 24/32\n",
      " - 5s - loss: 33.3825 - acc: 0.9972 - val_loss: 24.8317 - val_acc: 0.9944\n",
      "Epoch 25/32\n",
      " - 5s - loss: 33.3825 - acc: 0.9971 - val_loss: 24.8317 - val_acc: 0.9953\n",
      "Epoch 26/32\n",
      " - 5s - loss: 33.3825 - acc: 0.9973 - val_loss: 24.8317 - val_acc: 0.9967\n",
      "Epoch 27/32\n",
      " - 5s - loss: 33.3825 - acc: 0.9973 - val_loss: 24.8316 - val_acc: 0.9961\n",
      "Epoch 28/32\n"
     ]
    }
   ],
   "source": [
    "#kfold = KFold(n_splits=10, random_state=seed)\n",
    "#results = cross_val_score(estimator, X_test, Y_test, cv=kfold)\n",
    "#print(\"Results: %.2f (%.2f) MSE\" % (results.mean(), results.std()))\n",
    "estimator.fit(X_train, Y_train, batch_size=10, nb_epoch=32, verbose=2, validation_data=(X_test, Y_test))"
   ]
  },
  {
   "cell_type": "code",
   "execution_count": null,
   "metadata": {},
   "outputs": [],
   "source": []
  }
 ],
 "metadata": {
  "kernelspec": {
   "display_name": "Python 2",
   "language": "python",
   "name": "python2"
  },
  "language_info": {
   "codemirror_mode": {
    "name": "ipython",
    "version": 2
   },
   "file_extension": ".py",
   "mimetype": "text/x-python",
   "name": "python",
   "nbconvert_exporter": "python",
   "pygments_lexer": "ipython2",
   "version": "2.7.12"
  }
 },
 "nbformat": 4,
 "nbformat_minor": 1
}
